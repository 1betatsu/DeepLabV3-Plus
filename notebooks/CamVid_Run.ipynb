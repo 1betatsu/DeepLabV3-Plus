{
  "nbformat": 4,
  "nbformat_minor": 0,
  "metadata": {
    "colab": {
      "name": "CamVid-Run.ipynb",
      "provenance": [],
      "collapsed_sections": [],
      "authorship_tag": "ABX9TyO9s0KdXhhltUxnAKHn8H/u",
      "include_colab_link": true
    },
    "kernelspec": {
      "name": "python3",
      "display_name": "Python 3"
    },
    "accelerator": "GPU"
  },
  "cells": [
    {
      "cell_type": "markdown",
      "metadata": {
        "id": "view-in-github",
        "colab_type": "text"
      },
      "source": [
        "<a href=\"https://colab.research.google.com/github/soumik12345/DeepLabV3-Plus/blob/master/notebooks/CamVid_Run.ipynb\" target=\"_parent\"><img src=\"https://colab.research.google.com/assets/colab-badge.svg\" alt=\"Open In Colab\"/></a>"
      ]
    },
    {
      "cell_type": "code",
      "metadata": {
        "id": "D49X6ZqCHhrv",
        "colab_type": "code",
        "colab": {
          "base_uri": "https://localhost:8080/",
          "height": 136
        },
        "outputId": "4fe265cd-64f7-4d92-d427-787ba99de7a1"
      },
      "source": [
        "!git clone https://github.com/soumik12345/DeepLabV3-Plus"
      ],
      "execution_count": 1,
      "outputs": [
        {
          "output_type": "stream",
          "text": [
            "Cloning into 'DeepLabV3-Plus'...\n",
            "remote: Enumerating objects: 345, done.\u001b[K\n",
            "remote: Counting objects:   0% (1/345)\u001b[K\rremote: Counting objects:   1% (4/345)\u001b[K\rremote: Counting objects:   2% (7/345)\u001b[K\rremote: Counting objects:   3% (11/345)\u001b[K\rremote: Counting objects:   4% (14/345)\u001b[K\rremote: Counting objects:   5% (18/345)\u001b[K\rremote: Counting objects:   6% (21/345)\u001b[K\rremote: Counting objects:   7% (25/345)\u001b[K\rremote: Counting objects:   8% (28/345)\u001b[K\rremote: Counting objects:   9% (32/345)\u001b[K\rremote: Counting objects:  10% (35/345)\u001b[K\rremote: Counting objects:  11% (38/345)\u001b[K\rremote: Counting objects:  12% (42/345)\u001b[K\rremote: Counting objects:  13% (45/345)\u001b[K\rremote: Counting objects:  14% (49/345)\u001b[K\rremote: Counting objects:  15% (52/345)\u001b[K\rremote: Counting objects:  16% (56/345)\u001b[K\rremote: Counting objects:  17% (59/345)\u001b[K\rremote: Counting objects:  18% (63/345)\u001b[K\rremote: Counting objects:  19% (66/345)\u001b[K\rremote: Counting objects:  20% (69/345)\u001b[K\rremote: Counting objects:  21% (73/345)\u001b[K\rremote: Counting objects:  22% (76/345)\u001b[K\rremote: Counting objects:  23% (80/345)\u001b[K\rremote: Counting objects:  24% (83/345)\u001b[K\rremote: Counting objects:  25% (87/345)\u001b[K\rremote: Counting objects:  26% (90/345)\u001b[K\rremote: Counting objects:  27% (94/345)\u001b[K\rremote: Counting objects:  28% (97/345)\u001b[K\rremote: Counting objects:  29% (101/345)\u001b[K\rremote: Counting objects:  30% (104/345)\u001b[K\rremote: Counting objects:  31% (107/345)\u001b[K\rremote: Counting objects:  32% (111/345)\u001b[K\rremote: Counting objects:  33% (114/345)\u001b[K\rremote: Counting objects:  34% (118/345)\u001b[K\rremote: Counting objects:  35% (121/345)\u001b[K\rremote: Counting objects:  36% (125/345)\u001b[K\rremote: Counting objects:  37% (128/345)\u001b[K\rremote: Counting objects:  38% (132/345)\u001b[K\rremote: Counting objects:  39% (135/345)\u001b[K\rremote: Counting objects:  40% (138/345)\u001b[K\rremote: Counting objects:  41% (142/345)\u001b[K\rremote: Counting objects:  42% (145/345)\u001b[K\rremote: Counting objects:  43% (149/345)\u001b[K\rremote: Counting objects:  44% (152/345)\u001b[K\rremote: Counting objects:  45% (156/345)\u001b[K\rremote: Counting objects:  46% (159/345)\u001b[K\rremote: Counting objects:  47% (163/345)\u001b[K\rremote: Counting objects:  48% (166/345)\u001b[K\rremote: Counting objects:  49% (170/345)\u001b[K\rremote: Counting objects:  50% (173/345)\u001b[K\rremote: Counting objects:  51% (176/345)\u001b[K\rremote: Counting objects:  52% (180/345)\u001b[K\rremote: Counting objects:  53% (183/345)\u001b[K\rremote: Counting objects:  54% (187/345)\u001b[K\rremote: Counting objects:  55% (190/345)\u001b[K\rremote: Counting objects:  56% (194/345)\u001b[K\rremote: Counting objects:  57% (197/345)\u001b[K\rremote: Counting objects:  58% (201/345)\u001b[K\rremote: Counting objects:  59% (204/345)\u001b[K\rremote: Counting objects:  60% (207/345)\u001b[K\rremote: Counting objects:  61% (211/345)\u001b[K\rremote: Counting objects:  62% (214/345)\u001b[K\rremote: Counting objects:  63% (218/345)\u001b[K\rremote: Counting objects:  64% (221/345)\u001b[K\rremote: Counting objects:  65% (225/345)\u001b[K\rremote: Counting objects:  66% (228/345)\u001b[K\rremote: Counting objects:  67% (232/345)\u001b[K\rremote: Counting objects:  68% (235/345)\u001b[K\rremote: Counting objects:  69% (239/345)\u001b[K\rremote: Counting objects:  70% (242/345)\u001b[K\rremote: Counting objects:  71% (245/345)\u001b[K\rremote: Counting objects:  72% (249/345)\u001b[K\rremote: Counting objects:  73% (252/345)\u001b[K\rremote: Counting objects:  74% (256/345)\u001b[K\rremote: Counting objects:  75% (259/345)\u001b[K\rremote: Counting objects:  76% (263/345)\u001b[K\rremote: Counting objects:  77% (266/345)\u001b[K\rremote: Counting objects:  78% (270/345)\u001b[K\rremote: Counting objects:  79% (273/345)\u001b[K\rremote: Counting objects:  80% (276/345)\u001b[K\rremote: Counting objects:  81% (280/345)\u001b[K\rremote: Counting objects:  82% (283/345)\u001b[K\rremote: Counting objects:  83% (287/345)\u001b[K\rremote: Counting objects:  84% (290/345)\u001b[K\rremote: Counting objects:  85% (294/345)\u001b[K\rremote: Counting objects:  86% (297/345)\u001b[K\rremote: Counting objects:  87% (301/345)\u001b[K\rremote: Counting objects:  88% (304/345)\u001b[K\rremote: Counting objects:  89% (308/345)\u001b[K\rremote: Counting objects:  90% (311/345)\u001b[K\rremote: Counting objects:  91% (314/345)\u001b[K\rremote: Counting objects:  92% (318/345)\u001b[K\rremote: Counting objects:  93% (321/345)\u001b[K\rremote: Counting objects:  94% (325/345)\u001b[K\rremote: Counting objects:  95% (328/345)\u001b[K\rremote: Counting objects:  96% (332/345)\u001b[K\rremote: Counting objects:  97% (335/345)\u001b[K\rremote: Counting objects:  98% (339/345)\u001b[K\rremote: Counting objects:  99% (342/345)\u001b[K\rremote: Counting objects: 100% (345/345)\u001b[K\rremote: Counting objects: 100% (345/345), done.\u001b[K\n",
            "remote: Compressing objects: 100% (251/251), done.\u001b[K\n",
            "remote: Total 345 (delta 178), reused 249 (delta 82), pack-reused 0\u001b[K\n",
            "Receiving objects: 100% (345/345), 2.38 MiB | 5.05 MiB/s, done.\n",
            "Resolving deltas: 100% (178/178), done.\n"
          ],
          "name": "stdout"
        }
      ]
    },
    {
      "cell_type": "code",
      "metadata": {
        "id": "4uXAli_mTdKo",
        "colab_type": "code",
        "colab": {
          "base_uri": "https://localhost:8080/",
          "height": 1000
        },
        "outputId": "e2791eb5-9cb6-4201-ef0b-ee393c281cfe"
      },
      "source": [
        "!nvidia-smi\n",
        "%cd DeepLabV3-Plus/dataset/\n",
        "!bash camvid.sh\n",
        "%cd ../\n",
        "!pip install --upgrade wandb\n",
        "!wandb login <YOUR-WANDB-LOGIN>"
      ],
      "execution_count": 2,
      "outputs": [
        {
          "output_type": "stream",
          "text": [
            "Mon May 25 18:13:41 2020       \n",
            "+-----------------------------------------------------------------------------+\n",
            "| NVIDIA-SMI 440.82       Driver Version: 418.67       CUDA Version: 10.1     |\n",
            "|-------------------------------+----------------------+----------------------+\n",
            "| GPU  Name        Persistence-M| Bus-Id        Disp.A | Volatile Uncorr. ECC |\n",
            "| Fan  Temp  Perf  Pwr:Usage/Cap|         Memory-Usage | GPU-Util  Compute M. |\n",
            "|===============================+======================+======================|\n",
            "|   0  Tesla P100-PCIE...  Off  | 00000000:00:04.0 Off |                    0 |\n",
            "| N/A   40C    P0    26W / 250W |      0MiB / 16280MiB |      0%      Default |\n",
            "+-------------------------------+----------------------+----------------------+\n",
            "                                                                               \n",
            "+-----------------------------------------------------------------------------+\n",
            "| Processes:                                                       GPU Memory |\n",
            "|  GPU       PID   Type   Process name                             Usage      |\n",
            "|=============================================================================|\n",
            "|  No running processes found                                                 |\n",
            "+-----------------------------------------------------------------------------+\n",
            "/content/DeepLabV3-Plus/dataset\n",
            "Downloading camvid.zip to /content/DeepLabV3-Plus/dataset\n",
            " 98% 1.10G/1.12G [00:18<00:00, 62.5MB/s]\n",
            "100% 1.12G/1.12G [00:18<00:00, 63.6MB/s]\n",
            "/content/DeepLabV3-Plus\n",
            "Collecting wandb\n",
            "\u001b[?25l  Downloading https://files.pythonhosted.org/packages/d1/c7/8bf2c62c3f133f45e135a8a116e4e0f162043248e3db54de30996eaf1a8a/wandb-0.8.36-py2.py3-none-any.whl (1.4MB)\n",
            "\u001b[K     |████████████████████████████████| 1.4MB 5.8MB/s \n",
            "\u001b[?25hRequirement already satisfied, skipping upgrade: nvidia-ml-py3>=7.352.0 in /usr/local/lib/python3.6/dist-packages (from wandb) (7.352.0)\n",
            "Requirement already satisfied, skipping upgrade: six>=1.10.0 in /usr/local/lib/python3.6/dist-packages (from wandb) (1.12.0)\n",
            "Requirement already satisfied, skipping upgrade: requests>=2.0.0 in /usr/local/lib/python3.6/dist-packages (from wandb) (2.23.0)\n",
            "Requirement already satisfied, skipping upgrade: Click>=7.0 in /usr/local/lib/python3.6/dist-packages (from wandb) (7.1.2)\n",
            "Collecting sentry-sdk>=0.4.0\n",
            "\u001b[?25l  Downloading https://files.pythonhosted.org/packages/1b/95/9a20eebcedab2c1c63fad59fe19a0469edfc2a25b8576497e8084629c2ff/sentry_sdk-0.14.4-py2.py3-none-any.whl (104kB)\n",
            "\u001b[K     |████████████████████████████████| 112kB 30.8MB/s \n",
            "\u001b[?25hCollecting docker-pycreds>=0.4.0\n",
            "  Downloading https://files.pythonhosted.org/packages/f5/e8/f6bd1eee09314e7e6dee49cbe2c5e22314ccdb38db16c9fc72d2fa80d054/docker_pycreds-0.4.0-py2.py3-none-any.whl\n",
            "Collecting watchdog>=0.8.3\n",
            "\u001b[?25l  Downloading https://files.pythonhosted.org/packages/73/c3/ed6d992006837e011baca89476a4bbffb0a91602432f73bd4473816c76e2/watchdog-0.10.2.tar.gz (95kB)\n",
            "\u001b[K     |████████████████████████████████| 102kB 10.6MB/s \n",
            "\u001b[?25hRequirement already satisfied, skipping upgrade: PyYAML>=3.10 in /usr/local/lib/python3.6/dist-packages (from wandb) (3.13)\n",
            "Collecting GitPython>=1.0.0\n",
            "\u001b[?25l  Downloading https://files.pythonhosted.org/packages/44/33/917e6fde1cad13daa7053f39b7c8af3be287314f75f1b1ea8d3fe37a8571/GitPython-3.1.2-py3-none-any.whl (451kB)\n",
            "\u001b[K     |████████████████████████████████| 460kB 17.6MB/s \n",
            "\u001b[?25hCollecting subprocess32>=3.5.3\n",
            "\u001b[?25l  Downloading https://files.pythonhosted.org/packages/32/c8/564be4d12629b912ea431f1a50eb8b3b9d00f1a0b1ceff17f266be190007/subprocess32-3.5.4.tar.gz (97kB)\n",
            "\u001b[K     |████████████████████████████████| 102kB 12.2MB/s \n",
            "\u001b[?25hCollecting configparser>=3.8.1\n",
            "  Downloading https://files.pythonhosted.org/packages/4b/6b/01baa293090240cf0562cc5eccb69c6f5006282127f2b846fad011305c79/configparser-5.0.0-py3-none-any.whl\n",
            "Collecting shortuuid>=0.5.0\n",
            "  Downloading https://files.pythonhosted.org/packages/25/a6/2ecc1daa6a304e7f1b216f0896b26156b78e7c38e1211e9b798b4716c53d/shortuuid-1.0.1-py3-none-any.whl\n",
            "Requirement already satisfied, skipping upgrade: psutil>=5.0.0 in /usr/local/lib/python3.6/dist-packages (from wandb) (5.4.8)\n",
            "Requirement already satisfied, skipping upgrade: python-dateutil>=2.6.1 in /usr/local/lib/python3.6/dist-packages (from wandb) (2.8.1)\n",
            "Collecting gql==0.2.0\n",
            "  Downloading https://files.pythonhosted.org/packages/c4/6f/cf9a3056045518f06184e804bae89390eb706168349daa9dff8ac609962a/gql-0.2.0.tar.gz\n",
            "Requirement already satisfied, skipping upgrade: certifi>=2017.4.17 in /usr/local/lib/python3.6/dist-packages (from requests>=2.0.0->wandb) (2020.4.5.1)\n",
            "Requirement already satisfied, skipping upgrade: chardet<4,>=3.0.2 in /usr/local/lib/python3.6/dist-packages (from requests>=2.0.0->wandb) (3.0.4)\n",
            "Requirement already satisfied, skipping upgrade: idna<3,>=2.5 in /usr/local/lib/python3.6/dist-packages (from requests>=2.0.0->wandb) (2.9)\n",
            "Requirement already satisfied, skipping upgrade: urllib3!=1.25.0,!=1.25.1,<1.26,>=1.21.1 in /usr/local/lib/python3.6/dist-packages (from requests>=2.0.0->wandb) (1.24.3)\n",
            "Collecting pathtools>=0.1.1\n",
            "  Downloading https://files.pythonhosted.org/packages/e7/7f/470d6fcdf23f9f3518f6b0b76be9df16dcc8630ad409947f8be2eb0ed13a/pathtools-0.1.2.tar.gz\n",
            "Collecting gitdb<5,>=4.0.1\n",
            "\u001b[?25l  Downloading https://files.pythonhosted.org/packages/48/11/d1800bca0a3bae820b84b7d813ad1eff15a48a64caea9c823fc8c1b119e8/gitdb-4.0.5-py3-none-any.whl (63kB)\n",
            "\u001b[K     |████████████████████████████████| 71kB 6.7MB/s \n",
            "\u001b[?25hCollecting graphql-core<2,>=0.5.0\n",
            "\u001b[?25l  Downloading https://files.pythonhosted.org/packages/b0/89/00ad5e07524d8c523b14d70c685e0299a8b0de6d0727e368c41b89b7ed0b/graphql-core-1.1.tar.gz (70kB)\n",
            "\u001b[K     |████████████████████████████████| 71kB 7.2MB/s \n",
            "\u001b[?25hRequirement already satisfied, skipping upgrade: promise<3,>=2.0 in /usr/local/lib/python3.6/dist-packages (from gql==0.2.0->wandb) (2.3)\n",
            "Collecting smmap<4,>=3.0.1\n",
            "  Downloading https://files.pythonhosted.org/packages/b0/9a/4d409a6234eb940e6a78dfdfc66156e7522262f5f2fecca07dc55915952d/smmap-3.0.4-py2.py3-none-any.whl\n",
            "Building wheels for collected packages: watchdog, subprocess32, gql, pathtools, graphql-core\n",
            "  Building wheel for watchdog (setup.py) ... \u001b[?25l\u001b[?25hdone\n",
            "  Created wheel for watchdog: filename=watchdog-0.10.2-cp36-none-any.whl size=73605 sha256=9c511e71124bc072dd93cb4451e081044bc2f478589eaf6b4a7d6e04a7c13455\n",
            "  Stored in directory: /root/.cache/pip/wheels/bc/ed/6c/028dea90d31b359cd2a7c8b0da4db80e41d24a59614154072e\n",
            "  Building wheel for subprocess32 (setup.py) ... \u001b[?25l\u001b[?25hdone\n",
            "  Created wheel for subprocess32: filename=subprocess32-3.5.4-cp36-none-any.whl size=6489 sha256=3f69045ff642edc2cf175e22e447aae9aae21a29916203a41729cf57ce864960\n",
            "  Stored in directory: /root/.cache/pip/wheels/68/39/1a/5e402bdfdf004af1786c8b853fd92f8c4a04f22aad179654d1\n",
            "  Building wheel for gql (setup.py) ... \u001b[?25l\u001b[?25hdone\n",
            "  Created wheel for gql: filename=gql-0.2.0-cp36-none-any.whl size=7630 sha256=237ef8adae4016f9521a93eef45e1b99773f1d51a7adc8a1d9ee20b646dae45a\n",
            "  Stored in directory: /root/.cache/pip/wheels/ce/0e/7b/58a8a5268655b3ad74feef5aa97946f0addafb3cbb6bd2da23\n",
            "  Building wheel for pathtools (setup.py) ... \u001b[?25l\u001b[?25hdone\n",
            "  Created wheel for pathtools: filename=pathtools-0.1.2-cp36-none-any.whl size=8784 sha256=f36c5f1ff370c1aed7f4c3be762ff57681df40f4dea8d906116a124724938c8f\n",
            "  Stored in directory: /root/.cache/pip/wheels/0b/04/79/c3b0c3a0266a3cb4376da31e5bfe8bba0c489246968a68e843\n",
            "  Building wheel for graphql-core (setup.py) ... \u001b[?25l\u001b[?25hdone\n",
            "  Created wheel for graphql-core: filename=graphql_core-1.1-cp36-none-any.whl size=104650 sha256=e5a503746a8901cca4c09f717f6341409623e081f58e62c151e40a23f819de64\n",
            "  Stored in directory: /root/.cache/pip/wheels/45/99/d7/c424029bb0fe910c63b68dbf2aa20d3283d023042521bcd7d5\n",
            "Successfully built watchdog subprocess32 gql pathtools graphql-core\n",
            "Installing collected packages: sentry-sdk, docker-pycreds, pathtools, watchdog, smmap, gitdb, GitPython, subprocess32, configparser, shortuuid, graphql-core, gql, wandb\n",
            "Successfully installed GitPython-3.1.2 configparser-5.0.0 docker-pycreds-0.4.0 gitdb-4.0.5 gql-0.2.0 graphql-core-1.1 pathtools-0.1.2 sentry-sdk-0.14.4 shortuuid-1.0.1 smmap-3.0.4 subprocess32-3.5.4 wandb-0.8.36 watchdog-0.10.2\n",
            "\u001b[34m\u001b[1mwandb\u001b[0m: Appending key for api.wandb.ai to your netrc file: /root/.netrc\n",
            "\u001b[32mSuccessfully logged in to Weights & Biases!\u001b[0m\n"
          ],
          "name": "stdout"
        }
      ]
    },
    {
      "cell_type": "code",
      "metadata": {
        "id": "B39blFlzVaz5",
        "colab_type": "code",
        "colab": {}
      },
      "source": [
        "from glob import glob\n",
        "import tensorflow as tf\n",
        "from train import Trainer"
      ],
      "execution_count": 0,
      "outputs": []
    },
    {
      "cell_type": "code",
      "metadata": {
        "id": "kH6W7U03TfRk",
        "colab_type": "code",
        "colab": {}
      },
      "source": [
        "configurations = {\n",
        "    'dataset_config': {\n",
        "        'name': 'camvid',\n",
        "        'train_image_list': sorted(glob('./dataset/CamVid/train/*')),\n",
        "        'train_mask_list': sorted(glob('./dataset/CamVid/train_labels/*')),\n",
        "        'val_image_list': sorted(glob('./dataset/CamVid/val/*')),\n",
        "        'val_mask_list': sorted(glob('./dataset/CamVid/val_labels/*')),\n",
        "        'patch_height': 512,\n",
        "        'patch_width': 512,\n",
        "        'train_batch_size': 8,\n",
        "        'val_batch_size': 8\n",
        "    },\n",
        "    'wandb_project': 'deeplav-v3-plus',\n",
        "    'strategy': tf.distribute.OneDeviceStrategy(device=\"/gpu:0\"),\n",
        "    'input_shape': (512, 512, 3),\n",
        "    'backbone': 'resnet101',\n",
        "    'n_classes': 32,\n",
        "    'bn_momentum': 0.9997,\n",
        "    'bn_epsilon': 1e-5,\n",
        "    'learning_rate': 1e-4,\n",
        "    'batch_size': 8,\n",
        "    'epochs': 500,\n",
        "    'weight_file': 'best_weights.h5'\n",
        "}"
      ],
      "execution_count": 0,
      "outputs": []
    },
    {
      "cell_type": "code",
      "metadata": {
        "id": "qAM7pq8tXFhl",
        "colab_type": "code",
        "colab": {
          "base_uri": "https://localhost:8080/",
          "height": 411
        },
        "outputId": "601f196d-0bc7-4bf2-d724-cd2e3241248e"
      },
      "source": [
        "trainer = Trainer(configurations)\n",
        "history = trainer.train()"
      ],
      "execution_count": 0,
      "outputs": [
        {
          "output_type": "display_data",
          "data": {
            "text/html": [
              "\n",
              "                Logging results to <a href=\"https://wandb.com\" target=\"_blank\">Weights & Biases</a> <a href=\"https://docs.wandb.com/integrations/jupyter.html\" target=\"_blank\">(Documentation)</a>.<br/>\n",
              "                Project page: <a href=\"https://app.wandb.ai/19soumik-rakshit96/deeplav-v3-plus\" target=\"_blank\">https://app.wandb.ai/19soumik-rakshit96/deeplav-v3-plus</a><br/>\n",
              "                Run page: <a href=\"https://app.wandb.ai/19soumik-rakshit96/deeplav-v3-plus/runs/30kesi35\" target=\"_blank\">https://app.wandb.ai/19soumik-rakshit96/deeplav-v3-plus/runs/30kesi35</a><br/>\n",
              "            "
            ],
            "text/plain": [
              "<IPython.core.display.HTML object>"
            ]
          },
          "metadata": {
            "tags": []
          }
        },
        {
          "output_type": "stream",
          "text": [
            "Device: /job:localhost/replica:0/task:0/device:GPU:0\n",
            "Train Directories Good to go\n",
            "Validation Directories Good to go\n",
            "Downloading data from https://storage.googleapis.com/tensorflow/keras-applications/resnet/resnet101_weights_tf_dim_ordering_tf_kernels_notop.h5\n",
            "171450368/171446536 [==============================] - 5s 0us/step\n",
            "Epoch 1/500\n",
            "45/45 [==============================] - ETA: 0s - loss: nan - accuracy: 0.0335\n",
            "Epoch 00001: val_loss did not improve from inf\n",
            "45/45 [==============================] - 58s 1s/step - loss: nan - accuracy: 0.0335 - val_loss: nan - val_accuracy: 0.0125\n",
            "Epoch 2/500\n",
            "45/45 [==============================] - ETA: 0s - loss: nan - accuracy: 0.0346\n",
            "Epoch 00002: val_loss did not improve from inf\n",
            "45/45 [==============================] - 58s 1s/step - loss: nan - accuracy: 0.0346 - val_loss: nan - val_accuracy: 0.0126\n",
            "Epoch 3/500\n",
            "45/45 [==============================] - ETA: 0s - loss: nan - accuracy: 0.0360\n",
            "Epoch 00003: val_loss did not improve from inf\n",
            "45/45 [==============================] - 57s 1s/step - loss: nan - accuracy: 0.0360 - val_loss: nan - val_accuracy: 0.0128\n",
            "Epoch 4/500\n",
            "13/45 [=======>......................] - ETA: 24s - loss: nan - accuracy: 0.0337"
          ],
          "name": "stdout"
        }
      ]
    },
    {
      "cell_type": "code",
      "metadata": {
        "id": "wYRvA3Um-jIF",
        "colab_type": "code",
        "colab": {}
      },
      "source": [
        ""
      ],
      "execution_count": 0,
      "outputs": []
    }
  ]
}